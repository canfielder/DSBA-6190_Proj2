{
  "nbformat": 4,
  "nbformat_minor": 0,
  "metadata": {
    "colab": {
      "name": "wine_quality_predict.ipynb",
      "provenance": [],
      "collapsed_sections": [],
      "toc_visible": true,
      "authorship_tag": "ABX9TyPjrxRE1gEe2VkhljkKOj/7",
      "include_colab_link": true
    },
    "kernelspec": {
      "name": "python3",
      "display_name": "Python 3"
    }
  },
  "cells": [
    {
      "cell_type": "markdown",
      "metadata": {
        "id": "view-in-github",
        "colab_type": "text"
      },
      "source": [
        "<a href=\"https://colab.research.google.com/github/canfielder/DSBA-6190_Proj2/blob/master/wine_predict/wine_quality_predict.ipynb\" target=\"_parent\"><img src=\"https://colab.research.google.com/assets/colab-badge.svg\" alt=\"Open In Colab\"/></a>"
      ]
    },
    {
      "cell_type": "markdown",
      "metadata": {
        "id": "alglaq7Y9C0b",
        "colab_type": "text"
      },
      "source": [
        "The purpose of the following colab file is to create export an sklearn model for use in a Flask App. That Flask App will then be containerized with Docker. \n",
        "\n",
        "The Wine Quality Dataset (https://archive.ics.uci.edu/ml/datasets/Wine+Quality) was used as the data input. Several regression models were generated, using the provided data to predict red wine quality."
      ]
    },
    {
      "cell_type": "markdown",
      "metadata": {
        "id": "Uo373A1_9FTZ",
        "colab_type": "text"
      },
      "source": [
        "# Import Libraries"
      ]
    },
    {
      "cell_type": "code",
      "metadata": {
        "id": "2mWGDXDZunwB",
        "colab_type": "code",
        "colab": {}
      },
      "source": [
        "#import sys\n",
        "#!{sys.executable} -m pip install joblib"
      ],
      "execution_count": 0,
      "outputs": []
    },
    {
      "cell_type": "code",
      "metadata": {
        "id": "CGGFiIGm9KQ9",
        "colab_type": "code",
        "colab": {}
      },
      "source": [
        "import pandas as pd\n",
        "import numpy as np\n",
        "import matplotlib.pyplot as plt \n",
        "import seaborn as sns\n",
        "import statsmodels.api as sm\n",
        "\n",
        "# Data Preparation\n",
        "from sklearn.model_selection import train_test_split\n",
        "from sklearn.preprocessing import StandardScaler\n",
        "from statsmodels.stats.outliers_influence import variance_inflation_factor\n",
        "from patsy import dmatrices\n",
        "\n",
        "# Modeling\n",
        "from sklearn.model_selection import KFold\n",
        "from sklearn.pipeline import make_pipeline\n",
        "from sklearn.model_selection import GridSearchCV\n",
        "from statsmodels.formula.api import ols\n",
        "from sklearn.linear_model import LinearRegression\n",
        "from sklearn.ensemble import RandomForestRegressor\n",
        "from sklearn.ensemble import GradientBoostingRegressor\n",
        "from sklearn.svm import SVR\n",
        "from xgboost import XGBRegressor\n",
        "\n",
        "# Output\n",
        "from sklearn.metrics import mean_squared_error,r2_score\n",
        "\n",
        "# Export\n",
        "import joblib\n",
        "from google.colab import files\n",
        "\n",
        "seed = 5590"
      ],
      "execution_count": 0,
      "outputs": []
    },
    {
      "cell_type": "markdown",
      "metadata": {
        "id": "rAQAiVwe_ebX",
        "colab_type": "text"
      },
      "source": [
        "# Data Import"
      ]
    },
    {
      "cell_type": "code",
      "metadata": {
        "id": "n-mSCZvP_j39",
        "colab_type": "code",
        "colab": {}
      },
      "source": [
        "# URL Shortened Github link\n",
        "url = 'https://bit.ly/39kKCWZ'\n",
        "df_wine_red = pd.read_csv(url, sep=\";\")"
      ],
      "execution_count": 0,
      "outputs": []
    },
    {
      "cell_type": "markdown",
      "metadata": {
        "id": "edWJ_dU8Cz1r",
        "colab_type": "text"
      },
      "source": [
        ""
      ]
    },
    {
      "cell_type": "markdown",
      "metadata": {
        "id": "97CO8q4mC07T",
        "colab_type": "text"
      },
      "source": [
        "# EDA"
      ]
    },
    {
      "cell_type": "code",
      "metadata": {
        "id": "pAlcvUP5C3LS",
        "colab_type": "code",
        "outputId": "f031ca61-0dd8-4a24-d7f1-d962ac46e418",
        "colab": {
          "base_uri": "https://localhost:8080/",
          "height": 34
        }
      },
      "source": [
        "df_wine_red.shape"
      ],
      "execution_count": 66,
      "outputs": [
        {
          "output_type": "execute_result",
          "data": {
            "text/plain": [
              "(1599, 12)"
            ]
          },
          "metadata": {
            "tags": []
          },
          "execution_count": 66
        }
      ]
    },
    {
      "cell_type": "code",
      "metadata": {
        "id": "Ak6LzXVNC9Y4",
        "colab_type": "code",
        "outputId": "90b320fd-49ae-405b-d5e5-c1bd1e2fa6c1",
        "colab": {
          "base_uri": "https://localhost:8080/",
          "height": 85
        }
      },
      "source": [
        "df_wine_red.columns"
      ],
      "execution_count": 67,
      "outputs": [
        {
          "output_type": "execute_result",
          "data": {
            "text/plain": [
              "Index(['fixed acidity', 'volatile acidity', 'citric acid', 'residual sugar',\n",
              "       'chlorides', 'free sulfur dioxide', 'total sulfur dioxide', 'density',\n",
              "       'pH', 'sulphates', 'alcohol', 'quality'],\n",
              "      dtype='object')"
            ]
          },
          "metadata": {
            "tags": []
          },
          "execution_count": 67
        }
      ]
    },
    {
      "cell_type": "markdown",
      "metadata": {
        "id": "iKBe4NmxPYHM",
        "colab_type": "text"
      },
      "source": [
        "## Remove spaces from column names"
      ]
    },
    {
      "cell_type": "code",
      "metadata": {
        "id": "y6a-Tb2tPfqv",
        "colab_type": "code",
        "colab": {}
      },
      "source": [
        "df_wine_red.columns = df_wine_red.columns.str.replace(' ', '_')"
      ],
      "execution_count": 0,
      "outputs": []
    },
    {
      "cell_type": "code",
      "metadata": {
        "id": "ocn0Pg73DC7h",
        "colab_type": "code",
        "outputId": "0c9c4820-cfb7-4f5d-d96c-a95dd304c740",
        "colab": {
          "base_uri": "https://localhost:8080/",
          "height": 204
        }
      },
      "source": [
        "df_wine_red.head()"
      ],
      "execution_count": 69,
      "outputs": [
        {
          "output_type": "execute_result",
          "data": {
            "text/html": [
              "<div>\n",
              "<style scoped>\n",
              "    .dataframe tbody tr th:only-of-type {\n",
              "        vertical-align: middle;\n",
              "    }\n",
              "\n",
              "    .dataframe tbody tr th {\n",
              "        vertical-align: top;\n",
              "    }\n",
              "\n",
              "    .dataframe thead th {\n",
              "        text-align: right;\n",
              "    }\n",
              "</style>\n",
              "<table border=\"1\" class=\"dataframe\">\n",
              "  <thead>\n",
              "    <tr style=\"text-align: right;\">\n",
              "      <th></th>\n",
              "      <th>fixed_acidity</th>\n",
              "      <th>volatile_acidity</th>\n",
              "      <th>citric_acid</th>\n",
              "      <th>residual_sugar</th>\n",
              "      <th>chlorides</th>\n",
              "      <th>free_sulfur_dioxide</th>\n",
              "      <th>total_sulfur_dioxide</th>\n",
              "      <th>density</th>\n",
              "      <th>pH</th>\n",
              "      <th>sulphates</th>\n",
              "      <th>alcohol</th>\n",
              "      <th>quality</th>\n",
              "    </tr>\n",
              "  </thead>\n",
              "  <tbody>\n",
              "    <tr>\n",
              "      <th>0</th>\n",
              "      <td>7.4</td>\n",
              "      <td>0.70</td>\n",
              "      <td>0.00</td>\n",
              "      <td>1.9</td>\n",
              "      <td>0.076</td>\n",
              "      <td>11.0</td>\n",
              "      <td>34.0</td>\n",
              "      <td>0.9978</td>\n",
              "      <td>3.51</td>\n",
              "      <td>0.56</td>\n",
              "      <td>9.4</td>\n",
              "      <td>5</td>\n",
              "    </tr>\n",
              "    <tr>\n",
              "      <th>1</th>\n",
              "      <td>7.8</td>\n",
              "      <td>0.88</td>\n",
              "      <td>0.00</td>\n",
              "      <td>2.6</td>\n",
              "      <td>0.098</td>\n",
              "      <td>25.0</td>\n",
              "      <td>67.0</td>\n",
              "      <td>0.9968</td>\n",
              "      <td>3.20</td>\n",
              "      <td>0.68</td>\n",
              "      <td>9.8</td>\n",
              "      <td>5</td>\n",
              "    </tr>\n",
              "    <tr>\n",
              "      <th>2</th>\n",
              "      <td>7.8</td>\n",
              "      <td>0.76</td>\n",
              "      <td>0.04</td>\n",
              "      <td>2.3</td>\n",
              "      <td>0.092</td>\n",
              "      <td>15.0</td>\n",
              "      <td>54.0</td>\n",
              "      <td>0.9970</td>\n",
              "      <td>3.26</td>\n",
              "      <td>0.65</td>\n",
              "      <td>9.8</td>\n",
              "      <td>5</td>\n",
              "    </tr>\n",
              "    <tr>\n",
              "      <th>3</th>\n",
              "      <td>11.2</td>\n",
              "      <td>0.28</td>\n",
              "      <td>0.56</td>\n",
              "      <td>1.9</td>\n",
              "      <td>0.075</td>\n",
              "      <td>17.0</td>\n",
              "      <td>60.0</td>\n",
              "      <td>0.9980</td>\n",
              "      <td>3.16</td>\n",
              "      <td>0.58</td>\n",
              "      <td>9.8</td>\n",
              "      <td>6</td>\n",
              "    </tr>\n",
              "    <tr>\n",
              "      <th>4</th>\n",
              "      <td>7.4</td>\n",
              "      <td>0.70</td>\n",
              "      <td>0.00</td>\n",
              "      <td>1.9</td>\n",
              "      <td>0.076</td>\n",
              "      <td>11.0</td>\n",
              "      <td>34.0</td>\n",
              "      <td>0.9978</td>\n",
              "      <td>3.51</td>\n",
              "      <td>0.56</td>\n",
              "      <td>9.4</td>\n",
              "      <td>5</td>\n",
              "    </tr>\n",
              "  </tbody>\n",
              "</table>\n",
              "</div>"
            ],
            "text/plain": [
              "   fixed_acidity  volatile_acidity  citric_acid  ...  sulphates  alcohol  quality\n",
              "0            7.4              0.70         0.00  ...       0.56      9.4        5\n",
              "1            7.8              0.88         0.00  ...       0.68      9.8        5\n",
              "2            7.8              0.76         0.04  ...       0.65      9.8        5\n",
              "3           11.2              0.28         0.56  ...       0.58      9.8        6\n",
              "4            7.4              0.70         0.00  ...       0.56      9.4        5\n",
              "\n",
              "[5 rows x 12 columns]"
            ]
          },
          "metadata": {
            "tags": []
          },
          "execution_count": 69
        }
      ]
    },
    {
      "cell_type": "code",
      "metadata": {
        "id": "EkL6qizlDQ5T",
        "colab_type": "code",
        "outputId": "1705772d-435a-4b50-a573-9e4ca1cd50e0",
        "colab": {
          "base_uri": "https://localhost:8080/",
          "height": 297
        }
      },
      "source": [
        "df_wine_red.describe()"
      ],
      "execution_count": 70,
      "outputs": [
        {
          "output_type": "execute_result",
          "data": {
            "text/html": [
              "<div>\n",
              "<style scoped>\n",
              "    .dataframe tbody tr th:only-of-type {\n",
              "        vertical-align: middle;\n",
              "    }\n",
              "\n",
              "    .dataframe tbody tr th {\n",
              "        vertical-align: top;\n",
              "    }\n",
              "\n",
              "    .dataframe thead th {\n",
              "        text-align: right;\n",
              "    }\n",
              "</style>\n",
              "<table border=\"1\" class=\"dataframe\">\n",
              "  <thead>\n",
              "    <tr style=\"text-align: right;\">\n",
              "      <th></th>\n",
              "      <th>fixed_acidity</th>\n",
              "      <th>volatile_acidity</th>\n",
              "      <th>citric_acid</th>\n",
              "      <th>residual_sugar</th>\n",
              "      <th>chlorides</th>\n",
              "      <th>free_sulfur_dioxide</th>\n",
              "      <th>total_sulfur_dioxide</th>\n",
              "      <th>density</th>\n",
              "      <th>pH</th>\n",
              "      <th>sulphates</th>\n",
              "      <th>alcohol</th>\n",
              "      <th>quality</th>\n",
              "    </tr>\n",
              "  </thead>\n",
              "  <tbody>\n",
              "    <tr>\n",
              "      <th>count</th>\n",
              "      <td>1599.000000</td>\n",
              "      <td>1599.000000</td>\n",
              "      <td>1599.000000</td>\n",
              "      <td>1599.000000</td>\n",
              "      <td>1599.000000</td>\n",
              "      <td>1599.000000</td>\n",
              "      <td>1599.000000</td>\n",
              "      <td>1599.000000</td>\n",
              "      <td>1599.000000</td>\n",
              "      <td>1599.000000</td>\n",
              "      <td>1599.000000</td>\n",
              "      <td>1599.000000</td>\n",
              "    </tr>\n",
              "    <tr>\n",
              "      <th>mean</th>\n",
              "      <td>8.319637</td>\n",
              "      <td>0.527821</td>\n",
              "      <td>0.270976</td>\n",
              "      <td>2.538806</td>\n",
              "      <td>0.087467</td>\n",
              "      <td>15.874922</td>\n",
              "      <td>46.467792</td>\n",
              "      <td>0.996747</td>\n",
              "      <td>3.311113</td>\n",
              "      <td>0.658149</td>\n",
              "      <td>10.422983</td>\n",
              "      <td>5.636023</td>\n",
              "    </tr>\n",
              "    <tr>\n",
              "      <th>std</th>\n",
              "      <td>1.741096</td>\n",
              "      <td>0.179060</td>\n",
              "      <td>0.194801</td>\n",
              "      <td>1.409928</td>\n",
              "      <td>0.047065</td>\n",
              "      <td>10.460157</td>\n",
              "      <td>32.895324</td>\n",
              "      <td>0.001887</td>\n",
              "      <td>0.154386</td>\n",
              "      <td>0.169507</td>\n",
              "      <td>1.065668</td>\n",
              "      <td>0.807569</td>\n",
              "    </tr>\n",
              "    <tr>\n",
              "      <th>min</th>\n",
              "      <td>4.600000</td>\n",
              "      <td>0.120000</td>\n",
              "      <td>0.000000</td>\n",
              "      <td>0.900000</td>\n",
              "      <td>0.012000</td>\n",
              "      <td>1.000000</td>\n",
              "      <td>6.000000</td>\n",
              "      <td>0.990070</td>\n",
              "      <td>2.740000</td>\n",
              "      <td>0.330000</td>\n",
              "      <td>8.400000</td>\n",
              "      <td>3.000000</td>\n",
              "    </tr>\n",
              "    <tr>\n",
              "      <th>25%</th>\n",
              "      <td>7.100000</td>\n",
              "      <td>0.390000</td>\n",
              "      <td>0.090000</td>\n",
              "      <td>1.900000</td>\n",
              "      <td>0.070000</td>\n",
              "      <td>7.000000</td>\n",
              "      <td>22.000000</td>\n",
              "      <td>0.995600</td>\n",
              "      <td>3.210000</td>\n",
              "      <td>0.550000</td>\n",
              "      <td>9.500000</td>\n",
              "      <td>5.000000</td>\n",
              "    </tr>\n",
              "    <tr>\n",
              "      <th>50%</th>\n",
              "      <td>7.900000</td>\n",
              "      <td>0.520000</td>\n",
              "      <td>0.260000</td>\n",
              "      <td>2.200000</td>\n",
              "      <td>0.079000</td>\n",
              "      <td>14.000000</td>\n",
              "      <td>38.000000</td>\n",
              "      <td>0.996750</td>\n",
              "      <td>3.310000</td>\n",
              "      <td>0.620000</td>\n",
              "      <td>10.200000</td>\n",
              "      <td>6.000000</td>\n",
              "    </tr>\n",
              "    <tr>\n",
              "      <th>75%</th>\n",
              "      <td>9.200000</td>\n",
              "      <td>0.640000</td>\n",
              "      <td>0.420000</td>\n",
              "      <td>2.600000</td>\n",
              "      <td>0.090000</td>\n",
              "      <td>21.000000</td>\n",
              "      <td>62.000000</td>\n",
              "      <td>0.997835</td>\n",
              "      <td>3.400000</td>\n",
              "      <td>0.730000</td>\n",
              "      <td>11.100000</td>\n",
              "      <td>6.000000</td>\n",
              "    </tr>\n",
              "    <tr>\n",
              "      <th>max</th>\n",
              "      <td>15.900000</td>\n",
              "      <td>1.580000</td>\n",
              "      <td>1.000000</td>\n",
              "      <td>15.500000</td>\n",
              "      <td>0.611000</td>\n",
              "      <td>72.000000</td>\n",
              "      <td>289.000000</td>\n",
              "      <td>1.003690</td>\n",
              "      <td>4.010000</td>\n",
              "      <td>2.000000</td>\n",
              "      <td>14.900000</td>\n",
              "      <td>8.000000</td>\n",
              "    </tr>\n",
              "  </tbody>\n",
              "</table>\n",
              "</div>"
            ],
            "text/plain": [
              "       fixed_acidity  volatile_acidity  ...      alcohol      quality\n",
              "count    1599.000000       1599.000000  ...  1599.000000  1599.000000\n",
              "mean        8.319637          0.527821  ...    10.422983     5.636023\n",
              "std         1.741096          0.179060  ...     1.065668     0.807569\n",
              "min         4.600000          0.120000  ...     8.400000     3.000000\n",
              "25%         7.100000          0.390000  ...     9.500000     5.000000\n",
              "50%         7.900000          0.520000  ...    10.200000     6.000000\n",
              "75%         9.200000          0.640000  ...    11.100000     6.000000\n",
              "max        15.900000          1.580000  ...    14.900000     8.000000\n",
              "\n",
              "[8 rows x 12 columns]"
            ]
          },
          "metadata": {
            "tags": []
          },
          "execution_count": 70
        }
      ]
    },
    {
      "cell_type": "markdown",
      "metadata": {
        "id": "2Ei3Wz5DDYmm",
        "colab_type": "text"
      },
      "source": [
        "## Missing Value Check"
      ]
    },
    {
      "cell_type": "code",
      "metadata": {
        "id": "UPkuuC7bDXq5",
        "colab_type": "code",
        "outputId": "66fbf154-697f-4cdb-cc58-879c6065a5c7",
        "colab": {
          "base_uri": "https://localhost:8080/",
          "height": 238
        }
      },
      "source": [
        "df_wine_red.isna().sum()"
      ],
      "execution_count": 71,
      "outputs": [
        {
          "output_type": "execute_result",
          "data": {
            "text/plain": [
              "fixed_acidity           0\n",
              "volatile_acidity        0\n",
              "citric_acid             0\n",
              "residual_sugar          0\n",
              "chlorides               0\n",
              "free_sulfur_dioxide     0\n",
              "total_sulfur_dioxide    0\n",
              "density                 0\n",
              "pH                      0\n",
              "sulphates               0\n",
              "alcohol                 0\n",
              "quality                 0\n",
              "dtype: int64"
            ]
          },
          "metadata": {
            "tags": []
          },
          "execution_count": 71
        }
      ]
    },
    {
      "cell_type": "markdown",
      "metadata": {
        "id": "1MOfErtoH75_",
        "colab_type": "text"
      },
      "source": [
        "# Inspect Multicollinearity\n",
        "All of the variables are numeric. We need to verify that there is no multicollinearity."
      ]
    },
    {
      "cell_type": "code",
      "metadata": {
        "id": "aj0Og9AHIc8G",
        "colab_type": "code",
        "outputId": "2d2cfa81-a32b-46cb-fea4-cc6406475684",
        "colab": {
          "base_uri": "https://localhost:8080/",
          "height": 221
        }
      },
      "source": [
        "correlations = df_wine_red.corr()['quality'].drop('quality')\n",
        "print(correlations)"
      ],
      "execution_count": 72,
      "outputs": [
        {
          "output_type": "stream",
          "text": [
            "fixed_acidity           0.124052\n",
            "volatile_acidity       -0.390558\n",
            "citric_acid             0.226373\n",
            "residual_sugar          0.013732\n",
            "chlorides              -0.128907\n",
            "free_sulfur_dioxide    -0.050656\n",
            "total_sulfur_dioxide   -0.185100\n",
            "density                -0.174919\n",
            "pH                     -0.057731\n",
            "sulphates               0.251397\n",
            "alcohol                 0.476166\n",
            "Name: quality, dtype: float64\n"
          ],
          "name": "stdout"
        }
      ]
    },
    {
      "cell_type": "code",
      "metadata": {
        "id": "w67jOWOnIh68",
        "colab_type": "code",
        "outputId": "5a347c88-9489-4438-adb8-32bbb262c919",
        "colab": {
          "base_uri": "https://localhost:8080/",
          "height": 833
        }
      },
      "source": [
        "# Create Correlation Object\n",
        "corr = df_wine_red.corr()\n",
        "\n",
        "# Generate a mask for the upper triangle\n",
        "mask = np.triu(np.ones_like(corr, dtype=np.bool))\n",
        "\n",
        "plt.figure(figsize = (14,14))\n",
        "sns.heatmap(corr, mask = mask, square=True, linewidths=1, annot=True,)\n",
        "plt.show()"
      ],
      "execution_count": 73,
      "outputs": [
        {
          "output_type": "display_data",
          "data": {
            "image/png": "[encoded data removed]",
            "text/plain": [
              "<Figure size 1008x1008 with 2 Axes>"
            ]
          },
          "metadata": {
            "tags": []
          }
        }
      ]
    },
    {
      "cell_type": "markdown",
      "metadata": {
        "id": "GTqNZfQeMSqx",
        "colab_type": "text"
      },
      "source": [
        "For now mulitcollinarity will be ignored as this model is just to show how to use a predictive model in a Docker hub. The applicability of the model is not essential."
      ]
    },
    {
      "cell_type": "markdown",
      "metadata": {
        "id": "F9ur-RcRNBn3",
        "colab_type": "text"
      },
      "source": [
        "## Min / Max of Columns\n",
        "The following calculates the minimum and maximum for each column. this information might be used as a description in the final Flask App, letting the user know the expected range of values."
      ]
    },
    {
      "cell_type": "markdown",
      "metadata": {
        "id": "EsY9Dc05NYfo",
        "colab_type": "text"
      },
      "source": [
        "### Minimum"
      ]
    },
    {
      "cell_type": "code",
      "metadata": {
        "id": "MIptr47ENBVE",
        "colab_type": "code",
        "outputId": "7e786f95-a816-4031-e97a-ab032da98b95",
        "colab": {
          "base_uri": "https://localhost:8080/",
          "height": 238
        }
      },
      "source": [
        "df_wine_red.min(axis=0)"
      ],
      "execution_count": 74,
      "outputs": [
        {
          "output_type": "execute_result",
          "data": {
            "text/plain": [
              "fixed_acidity           4.60000\n",
              "volatile_acidity        0.12000\n",
              "citric_acid             0.00000\n",
              "residual_sugar          0.90000\n",
              "chlorides               0.01200\n",
              "free_sulfur_dioxide     1.00000\n",
              "total_sulfur_dioxide    6.00000\n",
              "density                 0.99007\n",
              "pH                      2.74000\n",
              "sulphates               0.33000\n",
              "alcohol                 8.40000\n",
              "quality                 3.00000\n",
              "dtype: float64"
            ]
          },
          "metadata": {
            "tags": []
          },
          "execution_count": 74
        }
      ]
    },
    {
      "cell_type": "markdown",
      "metadata": {
        "id": "b53tAs-hNlWp",
        "colab_type": "text"
      },
      "source": [
        "### Maximum"
      ]
    },
    {
      "cell_type": "code",
      "metadata": {
        "id": "YIKY_2DiNm4A",
        "colab_type": "code",
        "outputId": "0aa3697c-48bd-43a1-a26c-31fe222226f9",
        "colab": {
          "base_uri": "https://localhost:8080/",
          "height": 238
        }
      },
      "source": [
        "df_wine_red.max(axis=0)"
      ],
      "execution_count": 75,
      "outputs": [
        {
          "output_type": "execute_result",
          "data": {
            "text/plain": [
              "fixed_acidity            15.90000\n",
              "volatile_acidity          1.58000\n",
              "citric_acid               1.00000\n",
              "residual_sugar           15.50000\n",
              "chlorides                 0.61100\n",
              "free_sulfur_dioxide      72.00000\n",
              "total_sulfur_dioxide    289.00000\n",
              "density                   1.00369\n",
              "pH                        4.01000\n",
              "sulphates                 2.00000\n",
              "alcohol                  14.90000\n",
              "quality                   8.00000\n",
              "dtype: float64"
            ]
          },
          "metadata": {
            "tags": []
          },
          "execution_count": 75
        }
      ]
    },
    {
      "cell_type": "markdown",
      "metadata": {
        "id": "V1IH1ggkOZOX",
        "colab_type": "text"
      },
      "source": [
        "\n",
        "## Anova Report"
      ]
    },
    {
      "cell_type": "code",
      "metadata": {
        "id": "XjkbF9R_OXf2",
        "colab_type": "code",
        "outputId": "258e5c5e-014f-4c54-c3c4-a22dcb40b286",
        "colab": {
          "base_uri": "https://localhost:8080/",
          "height": 688
        }
      },
      "source": [
        "ols_input = \"\"\"quality ~ fixed_acidity + volatile_acidity + \n",
        "citric_acid + residual_sugar + +chlorides + pH + free_sulfur_dioxide + \n",
        "total_sulfur_dioxide + density + sulphates + alcohol\"\"\"\n",
        "\n",
        "results = ols(ols_input, data=df_wine_red).fit()\n",
        "results.summary()"
      ],
      "execution_count": 76,
      "outputs": [
        {
          "output_type": "execute_result",
          "data": {
            "text/html": [
              "<table class=\"simpletable\">\n",
              "<caption>OLS Regression Results</caption>\n",
              "<tr>\n",
              "  <th>Dep. Variable:</th>         <td>quality</td>     <th>  R-squared:         </th> <td>   0.361</td> \n",
              "</tr>\n",
              "<tr>\n",
              "  <th>Model:</th>                   <td>OLS</td>       <th>  Adj. R-squared:    </th> <td>   0.356</td> \n",
              "</tr>\n",
              "<tr>\n",
              "  <th>Method:</th>             <td>Least Squares</td>  <th>  F-statistic:       </th> <td>   81.35</td> \n",
              "</tr>\n",
              "<tr>\n",
              "  <th>Date:</th>             <td>Wed, 25 Mar 2020</td> <th>  Prob (F-statistic):</th> <td>1.79e-145</td>\n",
              "</tr>\n",
              "<tr>\n",
              "  <th>Time:</th>                 <td>19:59:04</td>     <th>  Log-Likelihood:    </th> <td> -1569.1</td> \n",
              "</tr>\n",
              "<tr>\n",
              "  <th>No. Observations:</th>      <td>  1599</td>      <th>  AIC:               </th> <td>   3162.</td> \n",
              "</tr>\n",
              "<tr>\n",
              "  <th>Df Residuals:</th>          <td>  1587</td>      <th>  BIC:               </th> <td>   3227.</td> \n",
              "</tr>\n",
              "<tr>\n",
              "  <th>Df Model:</th>              <td>    11</td>      <th>                     </th>     <td> </td>    \n",
              "</tr>\n",
              "<tr>\n",
              "  <th>Covariance Type:</th>      <td>nonrobust</td>    <th>                     </th>     <td> </td>    \n",
              "</tr>\n",
              "</table>\n",
              "<table class=\"simpletable\">\n",
              "<tr>\n",
              "            <td></td>              <th>coef</th>     <th>std err</th>      <th>t</th>      <th>P>|t|</th>  <th>[0.025</th>    <th>0.975]</th>  \n",
              "</tr>\n",
              "<tr>\n",
              "  <th>Intercept</th>            <td>   21.9652</td> <td>   21.195</td> <td>    1.036</td> <td> 0.300</td> <td>  -19.607</td> <td>   63.538</td>\n",
              "</tr>\n",
              "<tr>\n",
              "  <th>fixed_acidity</th>        <td>    0.0250</td> <td>    0.026</td> <td>    0.963</td> <td> 0.336</td> <td>   -0.026</td> <td>    0.076</td>\n",
              "</tr>\n",
              "<tr>\n",
              "  <th>volatile_acidity</th>     <td>   -1.0836</td> <td>    0.121</td> <td>   -8.948</td> <td> 0.000</td> <td>   -1.321</td> <td>   -0.846</td>\n",
              "</tr>\n",
              "<tr>\n",
              "  <th>citric_acid</th>          <td>   -0.1826</td> <td>    0.147</td> <td>   -1.240</td> <td> 0.215</td> <td>   -0.471</td> <td>    0.106</td>\n",
              "</tr>\n",
              "<tr>\n",
              "  <th>residual_sugar</th>       <td>    0.0163</td> <td>    0.015</td> <td>    1.089</td> <td> 0.276</td> <td>   -0.013</td> <td>    0.046</td>\n",
              "</tr>\n",
              "<tr>\n",
              "  <th>chlorides</th>            <td>   -1.8742</td> <td>    0.419</td> <td>   -4.470</td> <td> 0.000</td> <td>   -2.697</td> <td>   -1.052</td>\n",
              "</tr>\n",
              "<tr>\n",
              "  <th>pH</th>                   <td>   -0.4137</td> <td>    0.192</td> <td>   -2.159</td> <td> 0.031</td> <td>   -0.789</td> <td>   -0.038</td>\n",
              "</tr>\n",
              "<tr>\n",
              "  <th>free_sulfur_dioxide</th>  <td>    0.0044</td> <td>    0.002</td> <td>    2.009</td> <td> 0.045</td> <td>    0.000</td> <td>    0.009</td>\n",
              "</tr>\n",
              "<tr>\n",
              "  <th>total_sulfur_dioxide</th> <td>   -0.0033</td> <td>    0.001</td> <td>   -4.480</td> <td> 0.000</td> <td>   -0.005</td> <td>   -0.002</td>\n",
              "</tr>\n",
              "<tr>\n",
              "  <th>density</th>              <td>  -17.8812</td> <td>   21.633</td> <td>   -0.827</td> <td> 0.409</td> <td>  -60.314</td> <td>   24.551</td>\n",
              "</tr>\n",
              "<tr>\n",
              "  <th>sulphates</th>            <td>    0.9163</td> <td>    0.114</td> <td>    8.014</td> <td> 0.000</td> <td>    0.692</td> <td>    1.141</td>\n",
              "</tr>\n",
              "<tr>\n",
              "  <th>alcohol</th>              <td>    0.2762</td> <td>    0.026</td> <td>   10.429</td> <td> 0.000</td> <td>    0.224</td> <td>    0.328</td>\n",
              "</tr>\n",
              "</table>\n",
              "<table class=\"simpletable\">\n",
              "<tr>\n",
              "  <th>Omnibus:</th>       <td>27.376</td> <th>  Durbin-Watson:     </th> <td>   1.757</td>\n",
              "</tr>\n",
              "<tr>\n",
              "  <th>Prob(Omnibus):</th> <td> 0.000</td> <th>  Jarque-Bera (JB):  </th> <td>  40.965</td>\n",
              "</tr>\n",
              "<tr>\n",
              "  <th>Skew:</th>          <td>-0.168</td> <th>  Prob(JB):          </th> <td>1.27e-09</td>\n",
              "</tr>\n",
              "<tr>\n",
              "  <th>Kurtosis:</th>      <td> 3.708</td> <th>  Cond. No.          </th> <td>1.13e+05</td>\n",
              "</tr>\n",
              "</table><br/><br/>Warnings:<br/>[1] Standard Errors assume that the covariance matrix of the errors is correctly specified.<br/>[2] The condition number is large, 1.13e+05. This might indicate that there are<br/>strong multicollinearity or other numerical problems."
            ],
            "text/plain": [
              "<class 'statsmodels.iolib.summary.Summary'>\n",
              "\"\"\"\n",
              "                            OLS Regression Results                            \n",
              "==============================================================================\n",
              "Dep. Variable:                quality   R-squared:                       0.361\n",
              "Model:                            OLS   Adj. R-squared:                  0.356\n",
              "Method:                 Least Squares   F-statistic:                     81.35\n",
              "Date:                Wed, 25 Mar 2020   Prob (F-statistic):          1.79e-145\n",
              "Time:                        19:59:04   Log-Likelihood:                -1569.1\n",
              "No. Observations:                1599   AIC:                             3162.\n",
              "Df Residuals:                    1587   BIC:                             3227.\n",
              "Df Model:                          11                                         \n",
              "Covariance Type:            nonrobust                                         \n",
              "========================================================================================\n",
              "                           coef    std err          t      P>|t|      [0.025      0.975]\n",
              "----------------------------------------------------------------------------------------\n",
              "Intercept               21.9652     21.195      1.036      0.300     -19.607      63.538\n",
              "fixed_acidity            0.0250      0.026      0.963      0.336      -0.026       0.076\n",
              "volatile_acidity        -1.0836      0.121     -8.948      0.000      -1.321      -0.846\n",
              "citric_acid             -0.1826      0.147     -1.240      0.215      -0.471       0.106\n",
              "residual_sugar           0.0163      0.015      1.089      0.276      -0.013       0.046\n",
              "chlorides               -1.8742      0.419     -4.470      0.000      -2.697      -1.052\n",
              "pH                      -0.4137      0.192     -2.159      0.031      -0.789      -0.038\n",
              "free_sulfur_dioxide      0.0044      0.002      2.009      0.045       0.000       0.009\n",
              "total_sulfur_dioxide    -0.0033      0.001     -4.480      0.000      -0.005      -0.002\n",
              "density                -17.8812     21.633     -0.827      0.409     -60.314      24.551\n",
              "sulphates                0.9163      0.114      8.014      0.000       0.692       1.141\n",
              "alcohol                  0.2762      0.026     10.429      0.000       0.224       0.328\n",
              "==============================================================================\n",
              "Omnibus:                       27.376   Durbin-Watson:                   1.757\n",
              "Prob(Omnibus):                  0.000   Jarque-Bera (JB):               40.965\n",
              "Skew:                          -0.168   Prob(JB):                     1.27e-09\n",
              "Kurtosis:                       3.708   Cond. No.                     1.13e+05\n",
              "==============================================================================\n",
              "\n",
              "Warnings:\n",
              "[1] Standard Errors assume that the covariance matrix of the errors is correctly specified.\n",
              "[2] The condition number is large, 1.13e+05. This might indicate that there are\n",
              "strong multicollinearity or other numerical problems.\n",
              "\"\"\""
            ]
          },
          "metadata": {
            "tags": []
          },
          "execution_count": 76
        }
      ]
    },
    {
      "cell_type": "markdown",
      "metadata": {
        "id": "3aADloHnRgY5",
        "colab_type": "text"
      },
      "source": [
        "## VIF Analysis\n"
      ]
    },
    {
      "cell_type": "markdown",
      "metadata": {
        "id": "uLiB2TeUSNsi",
        "colab_type": "text"
      },
      "source": [
        "### Preparation"
      ]
    },
    {
      "cell_type": "code",
      "metadata": {
        "id": "6eQculdcRi6e",
        "colab_type": "code",
        "colab": {}
      },
      "source": [
        "# Predictor Variables\n",
        "df_wine_red_X = df_wine_red.drop('quality', axis=1)\n",
        "\n",
        "# Gather Features\n",
        "features = \"+\".join(df_wine_red_X.columns)\n",
        "\n",
        "# Return X and y from Multivariable Regression\n",
        "y, X = dmatrices('quality ~' + features, df_wine_red, return_type='dataframe')"
      ],
      "execution_count": 0,
      "outputs": []
    },
    {
      "cell_type": "markdown",
      "metadata": {
        "id": "Vtb0gy39SQgh",
        "colab_type": "text"
      },
      "source": [
        "### Analysis"
      ]
    },
    {
      "cell_type": "code",
      "metadata": {
        "id": "ESf-DWQuST1a",
        "colab_type": "code",
        "outputId": "a0993178-8079-4d92-8beb-0d47228e0775",
        "colab": {
          "base_uri": "https://localhost:8080/",
          "height": 421
        }
      },
      "source": [
        "# For each X, calculate VIF and save in dataframe\n",
        "vif = pd.DataFrame()\n",
        "vif[\"VIF Factor\"] = [variance_inflation_factor(X.values, i) for i in range(X.shape[1])]\n",
        "vif[\"features\"] = X.columns\n",
        "\n",
        "vif.round(1)"
      ],
      "execution_count": 78,
      "outputs": [
        {
          "output_type": "execute_result",
          "data": {
            "text/html": [
              "<div>\n",
              "<style scoped>\n",
              "    .dataframe tbody tr th:only-of-type {\n",
              "        vertical-align: middle;\n",
              "    }\n",
              "\n",
              "    .dataframe tbody tr th {\n",
              "        vertical-align: top;\n",
              "    }\n",
              "\n",
              "    .dataframe thead th {\n",
              "        text-align: right;\n",
              "    }\n",
              "</style>\n",
              "<table border=\"1\" class=\"dataframe\">\n",
              "  <thead>\n",
              "    <tr style=\"text-align: right;\">\n",
              "      <th></th>\n",
              "      <th>VIF Factor</th>\n",
              "      <th>features</th>\n",
              "    </tr>\n",
              "  </thead>\n",
              "  <tbody>\n",
              "    <tr>\n",
              "      <th>0</th>\n",
              "      <td>1710538.5</td>\n",
              "      <td>Intercept</td>\n",
              "    </tr>\n",
              "    <tr>\n",
              "      <th>1</th>\n",
              "      <td>7.8</td>\n",
              "      <td>fixed_acidity</td>\n",
              "    </tr>\n",
              "    <tr>\n",
              "      <th>2</th>\n",
              "      <td>1.8</td>\n",
              "      <td>volatile_acidity</td>\n",
              "    </tr>\n",
              "    <tr>\n",
              "      <th>3</th>\n",
              "      <td>3.1</td>\n",
              "      <td>citric_acid</td>\n",
              "    </tr>\n",
              "    <tr>\n",
              "      <th>4</th>\n",
              "      <td>1.7</td>\n",
              "      <td>residual_sugar</td>\n",
              "    </tr>\n",
              "    <tr>\n",
              "      <th>5</th>\n",
              "      <td>1.5</td>\n",
              "      <td>chlorides</td>\n",
              "    </tr>\n",
              "    <tr>\n",
              "      <th>6</th>\n",
              "      <td>2.0</td>\n",
              "      <td>free_sulfur_dioxide</td>\n",
              "    </tr>\n",
              "    <tr>\n",
              "      <th>7</th>\n",
              "      <td>2.2</td>\n",
              "      <td>total_sulfur_dioxide</td>\n",
              "    </tr>\n",
              "    <tr>\n",
              "      <th>8</th>\n",
              "      <td>6.3</td>\n",
              "      <td>density</td>\n",
              "    </tr>\n",
              "    <tr>\n",
              "      <th>9</th>\n",
              "      <td>3.3</td>\n",
              "      <td>pH</td>\n",
              "    </tr>\n",
              "    <tr>\n",
              "      <th>10</th>\n",
              "      <td>1.4</td>\n",
              "      <td>sulphates</td>\n",
              "    </tr>\n",
              "    <tr>\n",
              "      <th>11</th>\n",
              "      <td>3.0</td>\n",
              "      <td>alcohol</td>\n",
              "    </tr>\n",
              "  </tbody>\n",
              "</table>\n",
              "</div>"
            ],
            "text/plain": [
              "    VIF Factor              features\n",
              "0    1710538.5             Intercept\n",
              "1          7.8         fixed_acidity\n",
              "2          1.8      volatile_acidity\n",
              "3          3.1           citric_acid\n",
              "4          1.7        residual_sugar\n",
              "5          1.5             chlorides\n",
              "6          2.0   free_sulfur_dioxide\n",
              "7          2.2  total_sulfur_dioxide\n",
              "8          6.3               density\n",
              "9          3.3                    pH\n",
              "10         1.4             sulphates\n",
              "11         3.0               alcohol"
            ]
          },
          "metadata": {
            "tags": []
          },
          "execution_count": 78
        }
      ]
    },
    {
      "cell_type": "markdown",
      "metadata": {
        "id": "7Q9FIrERDpNw",
        "colab_type": "text"
      },
      "source": [
        "# Prepare Data for Modeling"
      ]
    },
    {
      "cell_type": "markdown",
      "metadata": {
        "id": "3PjtOCJLD-26",
        "colab_type": "text"
      },
      "source": [
        "## Seperate Dependent and Independent Variables"
      ]
    },
    {
      "cell_type": "code",
      "metadata": {
        "id": "zD0FNbETDrWo",
        "colab_type": "code",
        "colab": {}
      },
      "source": [
        "y = df_wine_red.quality\n",
        "X = df_wine_red.drop('quality', axis=1)"
      ],
      "execution_count": 0,
      "outputs": []
    },
    {
      "cell_type": "code",
      "metadata": {
        "id": "Y-uGHDjVD1OR",
        "colab_type": "code",
        "outputId": "97287707-5829-4b89-a1f6-7eafdc87fafc",
        "colab": {
          "base_uri": "https://localhost:8080/",
          "height": 34
        }
      },
      "source": [
        "X.shape"
      ],
      "execution_count": 80,
      "outputs": [
        {
          "output_type": "execute_result",
          "data": {
            "text/plain": [
              "(1599, 11)"
            ]
          },
          "metadata": {
            "tags": []
          },
          "execution_count": 80
        }
      ]
    },
    {
      "cell_type": "code",
      "metadata": {
        "id": "cV0BjL2iD5PI",
        "colab_type": "code",
        "outputId": "3fa68fe6-7b0f-48b8-cc4d-af47df5de850",
        "colab": {
          "base_uri": "https://localhost:8080/",
          "height": 34
        }
      },
      "source": [
        "y.shape"
      ],
      "execution_count": 81,
      "outputs": [
        {
          "output_type": "execute_result",
          "data": {
            "text/plain": [
              "(1599,)"
            ]
          },
          "metadata": {
            "tags": []
          },
          "execution_count": 81
        }
      ]
    },
    {
      "cell_type": "markdown",
      "metadata": {
        "id": "J4-m8Jw-EFEJ",
        "colab_type": "text"
      },
      "source": [
        "## Split Data Into Training and Test"
      ]
    },
    {
      "cell_type": "code",
      "metadata": {
        "id": "lRj0cEQoEKAb",
        "colab_type": "code",
        "colab": {}
      },
      "source": [
        "X_train, X_test, y_train, y_test = train_test_split(X, y, \n",
        "                                                    test_size=0.2, \n",
        "                                                    random_state=seed, \n",
        "                                                    stratify=y)"
      ],
      "execution_count": 0,
      "outputs": []
    },
    {
      "cell_type": "markdown",
      "metadata": {
        "id": "YefzY8fhErXa",
        "colab_type": "text"
      },
      "source": [
        "\n",
        "## Scale Data\n"
      ]
    },
    {
      "cell_type": "code",
      "metadata": {
        "id": "09qfQ0fgEpnc",
        "colab_type": "code",
        "colab": {}
      },
      "source": [
        "scaler = StandardScaler().fit(X_train)"
      ],
      "execution_count": 0,
      "outputs": []
    },
    {
      "cell_type": "code",
      "metadata": {
        "id": "XeGE9oAAE1u1",
        "colab_type": "code",
        "outputId": "2a00178a-13b1-4514-d4f0-cfb3253441ee",
        "colab": {
          "base_uri": "https://localhost:8080/",
          "height": 85
        }
      },
      "source": [
        "X_train_scaled = scaler.transform(X_train)\n",
        " \n",
        "print(X_train_scaled.mean(axis=0))\n",
        "print(X_train_scaled.std(axis=0))"
      ],
      "execution_count": 84,
      "outputs": [
        {
          "output_type": "stream",
          "text": [
            "[ 5.33323711e-16 -4.02770511e-17  1.11109106e-17 -1.80552298e-17\n",
            "  1.80552298e-16 -6.11100085e-17 -8.88872852e-17  4.34631047e-14\n",
            "  1.40344690e-15  3.83326417e-16 -1.23608881e-15]\n",
            "[1. 1. 1. 1. 1. 1. 1. 1. 1. 1. 1.]\n"
          ],
          "name": "stdout"
        }
      ]
    },
    {
      "cell_type": "code",
      "metadata": {
        "id": "lUApWgu9Fald",
        "colab_type": "code",
        "outputId": "56f8a448-a25b-402b-b3dd-598505f5716e",
        "colab": {
          "base_uri": "https://localhost:8080/",
          "height": 85
        }
      },
      "source": [
        "X_test_scaled = scaler.transform(X_test)\n",
        "\n",
        "print(X_test_scaled.mean(axis=0))\n",
        "print(X_test_scaled.std(axis=0))"
      ],
      "execution_count": 85,
      "outputs": [
        {
          "output_type": "stream",
          "text": [
            "[-0.1274238  -0.04357722 -0.06045835 -0.02739073 -0.06217043  0.08601355\n",
            "  0.12611216 -0.08237321  0.06812566  0.14357303  0.0102217 ]\n",
            "[0.96539711 1.04651894 0.96743984 0.79423727 0.97446725 1.01210074\n",
            " 1.04851777 0.9260575  0.95588771 1.17597523 0.98535924]\n"
          ],
          "name": "stdout"
        }
      ]
    },
    {
      "cell_type": "markdown",
      "metadata": {
        "id": "buSjrNJMF0wg",
        "colab_type": "text"
      },
      "source": [
        "# Modeling"
      ]
    },
    {
      "cell_type": "markdown",
      "metadata": {
        "id": "YSllGD1pF7uN",
        "colab_type": "text"
      },
      "source": [
        "## Linear Regression"
      ]
    },
    {
      "cell_type": "code",
      "metadata": {
        "id": "rwxahP_XGBJi",
        "colab_type": "code",
        "colab": {}
      },
      "source": [
        "lin_reg = LinearRegression()\n",
        "lin_reg = lin_reg.fit(X_train_scaled, y_train)\n",
        "y_pred = lin_reg.predict(X_test_scaled)"
      ],
      "execution_count": 0,
      "outputs": []
    },
    {
      "cell_type": "markdown",
      "metadata": {
        "id": "CiNGR5RBpa3z",
        "colab_type": "text"
      },
      "source": [
        "### Evaluate"
      ]
    },
    {
      "cell_type": "code",
      "metadata": {
        "id": "lNOtgcU1GZ2X",
        "colab_type": "code",
        "outputId": "a67b465a-6908-4734-ca2e-f73453793746",
        "colab": {
          "base_uri": "https://localhost:8080/",
          "height": 51
        }
      },
      "source": [
        "print(\"RMSE for Linear Regression: %.2f\" \n",
        "      %mean_squared_error(y_test,y_pred))\n",
        "print(\"r2 for Linear Regression: %.2f\" \n",
        "      %r2_score(y_test,y_pred))"
      ],
      "execution_count": 87,
      "outputs": [
        {
          "output_type": "stream",
          "text": [
            "RMSE for Linear Regression: 0.44\n",
            "r2 for Linear Regression: 0.32\n"
          ],
          "name": "stdout"
        }
      ]
    },
    {
      "cell_type": "markdown",
      "metadata": {
        "id": "ymKpixZ_Q_f8",
        "colab_type": "text"
      },
      "source": [
        "## Random Forest Regressor"
      ]
    },
    {
      "cell_type": "markdown",
      "metadata": {
        "id": "zO4E9GUjRlL_",
        "colab_type": "text"
      },
      "source": [
        "The following block develops a pipeline."
      ]
    },
    {
      "cell_type": "code",
      "metadata": {
        "id": "L3xgLNxdRK9x",
        "colab_type": "code",
        "outputId": "7e8d4eb0-ab9e-488b-9296-c7b77e8601bc",
        "colab": {
          "base_uri": "https://localhost:8080/",
          "height": 510
        }
      },
      "source": [
        "pipeline = make_pipeline(StandardScaler(), \n",
        "                         RandomForestRegressor(\n",
        "                             n_estimators=100, \n",
        "                             random_state = seed)\n",
        "                         )\n",
        "\n",
        "param_grid = { \n",
        "    'randomforestregressor__max_features' : ['auto', 'sqrt', 'log2'],\n",
        "    'randomforestregressor__max_depth': [None, 5, 3, 1]\n",
        "    }\n",
        "\n",
        "num_folds = 10\n",
        "\n",
        "kfold = KFold(n_splits=num_folds)\n",
        "\n",
        "grid_result = GridSearchCV(\n",
        "    pipeline,\n",
        "    param_grid, \n",
        "    cv=kfold, \n",
        "    refit=True)\n",
        "\n",
        "grid_result.fit(X_train, y_train)"
      ],
      "execution_count": 88,
      "outputs": [
        {
          "output_type": "execute_result",
          "data": {
            "text/plain": [
              "GridSearchCV(cv=KFold(n_splits=10, random_state=None, shuffle=False),\n",
              "             error_score=nan,\n",
              "             estimator=Pipeline(memory=None,\n",
              "                                steps=[('standardscaler',\n",
              "                                        StandardScaler(copy=True,\n",
              "                                                       with_mean=True,\n",
              "                                                       with_std=True)),\n",
              "                                       ('randomforestregressor',\n",
              "                                        RandomForestRegressor(bootstrap=True,\n",
              "                                                              ccp_alpha=0.0,\n",
              "                                                              criterion='mse',\n",
              "                                                              max_depth=None,\n",
              "                                                              max_features='auto',\n",
              "                                                              max_leaf_nodes=None,\n",
              "                                                              max_samp...\n",
              "                                                              min_weight_fraction_leaf=0.0,\n",
              "                                                              n_estimators=100,\n",
              "                                                              n_jobs=None,\n",
              "                                                              oob_score=False,\n",
              "                                                              random_state=5590,\n",
              "                                                              verbose=0,\n",
              "                                                              warm_start=False))],\n",
              "                                verbose=False),\n",
              "             iid='deprecated', n_jobs=None,\n",
              "             param_grid={'randomforestregressor__max_depth': [None, 5, 3, 1],\n",
              "                         'randomforestregressor__max_features': ['auto', 'sqrt',\n",
              "                                                                 'log2']},\n",
              "             pre_dispatch='2*n_jobs', refit=True, return_train_score=False,\n",
              "             scoring=None, verbose=0)"
            ]
          },
          "metadata": {
            "tags": []
          },
          "execution_count": 88
        }
      ]
    },
    {
      "cell_type": "code",
      "metadata": {
        "id": "Ov6r4xfgSmas",
        "colab_type": "code",
        "outputId": "dfcd2822-0aaa-44de-cf80-1cb829057313",
        "colab": {
          "base_uri": "https://localhost:8080/",
          "height": 34
        }
      },
      "source": [
        "print(grid_result.best_params_)\n",
        "rf_reg = grid_result.best_estimator_"
      ],
      "execution_count": 89,
      "outputs": [
        {
          "output_type": "stream",
          "text": [
            "{'randomforestregressor__max_depth': None, 'randomforestregressor__max_features': 'sqrt'}\n"
          ],
          "name": "stdout"
        }
      ]
    },
    {
      "cell_type": "code",
      "metadata": {
        "id": "mHaE5cW0TCY0",
        "colab_type": "code",
        "colab": {}
      },
      "source": [
        "y_pred = rf_reg.predict(X_test)"
      ],
      "execution_count": 0,
      "outputs": []
    },
    {
      "cell_type": "markdown",
      "metadata": {
        "id": "eASBA-1XpXMw",
        "colab_type": "text"
      },
      "source": [
        "### Evaluate"
      ]
    },
    {
      "cell_type": "code",
      "metadata": {
        "id": "6WUpawjbTFu6",
        "colab_type": "code",
        "outputId": "6836296b-553e-43e8-cfcc-953e5a9eae49",
        "colab": {
          "base_uri": "https://localhost:8080/",
          "height": 51
        }
      },
      "source": [
        "print(\"RMSE for Linear Regression: %.2f\" \n",
        "      %mean_squared_error(y_test,y_pred))\n",
        "print(\"r2 for Linear Regression: %.2f\" \n",
        "      %r2_score(y_test,y_pred))"
      ],
      "execution_count": 91,
      "outputs": [
        {
          "output_type": "stream",
          "text": [
            "RMSE for Linear Regression: 0.32\n",
            "r2 for Linear Regression: 0.50\n"
          ],
          "name": "stdout"
        }
      ]
    },
    {
      "cell_type": "markdown",
      "metadata": {
        "id": "47gx2acYTXz-",
        "colab_type": "text"
      },
      "source": [
        "## Gradient Boost Regression\n"
      ]
    },
    {
      "cell_type": "code",
      "metadata": {
        "id": "ecgrVfFCTXQs",
        "colab_type": "code",
        "colab": {}
      },
      "source": [
        "num_folds = 10\n",
        "\n",
        "model = GradientBoostingRegressor(random_state=seed)\n",
        "\n",
        "param_grid={\n",
        "     'n_estimators': np.linspace(350,500,7).astype(int)\n",
        "     }\n",
        "\n",
        "kfold = KFold(n_splits=num_folds)\n",
        "\n",
        "grid = GridSearchCV(estimator=model, \n",
        "                    param_grid=param_grid, \n",
        "                    cv=kfold, \n",
        "                    refit=True)\n",
        "\n",
        "grid_result = grid.fit(X_train_scaled, y_train)"
      ],
      "execution_count": 0,
      "outputs": []
    },
    {
      "cell_type": "code",
      "metadata": {
        "id": "UULBM3Xwsq5C",
        "colab_type": "code",
        "outputId": "be6c5e8e-1348-4610-b839-9bba600cd50c",
        "colab": {
          "base_uri": "https://localhost:8080/",
          "height": 34
        }
      },
      "source": [
        "print(grid_result.best_params_)\n",
        "grad_boost_reg = grid_result.best_estimator_"
      ],
      "execution_count": 93,
      "outputs": [
        {
          "output_type": "stream",
          "text": [
            "{'n_estimators': 425}\n"
          ],
          "name": "stdout"
        }
      ]
    },
    {
      "cell_type": "markdown",
      "metadata": {
        "id": "_tjq2vBXomQV",
        "colab_type": "text"
      },
      "source": [
        "### Grid Search Results"
      ]
    },
    {
      "cell_type": "code",
      "metadata": {
        "id": "osBRsNA-m8VO",
        "colab_type": "code",
        "outputId": "e8a51ad2-8648-44c0-e8cc-10045df7d062",
        "colab": {
          "base_uri": "https://localhost:8080/",
          "height": 153
        }
      },
      "source": [
        "print(\"Best: %f using %s\" % (grid_result.best_score_, \n",
        "                             grid_result.best_params_))\n",
        "means = grid_result.cv_results_['mean_test_score']\n",
        "stds = grid_result.cv_results_['std_test_score']\n",
        "params = grid_result.cv_results_['params']\n",
        "for mean, stdev, param in zip(means, stds, params):\n",
        "    print(\"%f (%f) with: %r\" % (mean, stdev, param))"
      ],
      "execution_count": 94,
      "outputs": [
        {
          "output_type": "stream",
          "text": [
            "Best: 0.403391 using {'n_estimators': 425}\n",
            "0.400819 (0.060586) with: {'n_estimators': 350}\n",
            "0.400972 (0.059810) with: {'n_estimators': 375}\n",
            "0.401870 (0.062293) with: {'n_estimators': 400}\n",
            "0.403391 (0.062894) with: {'n_estimators': 425}\n",
            "0.400781 (0.062862) with: {'n_estimators': 450}\n",
            "0.399706 (0.064138) with: {'n_estimators': 475}\n",
            "0.400704 (0.063257) with: {'n_estimators': 500}\n"
          ],
          "name": "stdout"
        }
      ]
    },
    {
      "cell_type": "markdown",
      "metadata": {
        "id": "feiMRV0koqyh",
        "colab_type": "text"
      },
      "source": [
        "### Fit Model"
      ]
    },
    {
      "cell_type": "code",
      "metadata": {
        "id": "rTr9xFotos0D",
        "colab_type": "code",
        "colab": {}
      },
      "source": [
        "y_pred = grad_boost_reg.predict(X_test_scaled)"
      ],
      "execution_count": 0,
      "outputs": []
    },
    {
      "cell_type": "markdown",
      "metadata": {
        "id": "6-dDRlg8pdWb",
        "colab_type": "text"
      },
      "source": [
        "### Evaluate"
      ]
    },
    {
      "cell_type": "code",
      "metadata": {
        "id": "0ANM2PbNpeVa",
        "colab_type": "code",
        "outputId": "2c44f46d-5e2f-4d2a-f998-121b6f2bdab0",
        "colab": {
          "base_uri": "https://localhost:8080/",
          "height": 51
        }
      },
      "source": [
        "print(\"RMSE for Linear Regression: %.2f\" \n",
        "      %mean_squared_error(y_test,y_pred))\n",
        "print(\"r2 for Linear Regression: %.2f\" \n",
        "      %r2_score(y_test,y_pred))"
      ],
      "execution_count": 96,
      "outputs": [
        {
          "output_type": "stream",
          "text": [
            "RMSE for Linear Regression: 0.38\n",
            "r2 for Linear Regression: 0.42\n"
          ],
          "name": "stdout"
        }
      ]
    },
    {
      "cell_type": "markdown",
      "metadata": {
        "id": "NgvA21StDT29",
        "colab_type": "text"
      },
      "source": [
        "## Support Vector Machines (SVM) Regression\n",
        "Note: The poly kernal was previously tested and performed poorly across the board. It has been removde from the parameter grid to speed up future runs."
      ]
    },
    {
      "cell_type": "code",
      "metadata": {
        "id": "eEbHOakyEVvK",
        "colab_type": "code",
        "colab": {}
      },
      "source": [
        "num_folds = 10\n",
        "\n",
        "model = SVR()\n",
        "\n",
        "param_grid={\n",
        "     'kernel': ('linear', 'rbf'),\n",
        "     'C':[1, 1.5, 10],\n",
        "     'gamma': [1e-7, 1e-4],\n",
        "     'epsilon':[0.1,0.2,0.5,0.3]\n",
        "     }\n",
        "\n",
        "grid = GridSearchCV(\n",
        "    estimator=model, \n",
        "    param_grid=param_grid, \n",
        "    cv=kfold, \n",
        "    refit=True\n",
        "    )\n",
        "\n",
        "grid_result = grid.fit(X_train_scaled, y_train)"
      ],
      "execution_count": 0,
      "outputs": []
    },
    {
      "cell_type": "code",
      "metadata": {
        "id": "KnAlPnBFFDhp",
        "colab_type": "code",
        "outputId": "dc16aa44-fee1-44e4-81b6-7ad4ff95ab23",
        "colab": {
          "base_uri": "https://localhost:8080/",
          "height": 34
        }
      },
      "source": [
        "print(grid_result.best_params_)\n",
        "svr = grid_result.best_estimator_"
      ],
      "execution_count": 98,
      "outputs": [
        {
          "output_type": "stream",
          "text": [
            "{'C': 1.5, 'epsilon': 0.1, 'gamma': 1e-07, 'kernel': 'linear'}\n"
          ],
          "name": "stdout"
        }
      ]
    },
    {
      "cell_type": "markdown",
      "metadata": {
        "id": "VV1xTF40FMca",
        "colab_type": "text"
      },
      "source": [
        "### Grid Search Results"
      ]
    },
    {
      "cell_type": "code",
      "metadata": {
        "id": "fhLuD2BHE5f7",
        "colab_type": "code",
        "outputId": "0e09090a-f9d2-4b11-9f0a-1ff057a27bc8",
        "colab": {
          "base_uri": "https://localhost:8080/",
          "height": 850
        }
      },
      "source": [
        "print(\"Best: %f using %s\" % (grid_result.best_score_, \n",
        "                             grid_result.best_params_))\n",
        "means = grid_result.cv_results_['mean_test_score']\n",
        "stds = grid_result.cv_results_['std_test_score']\n",
        "params = grid_result.cv_results_['params']\n",
        "for mean, stdev, param in zip(means, stds, params):\n",
        "    print(\"%f (%f) with: %r\" % (mean, stdev, param))"
      ],
      "execution_count": 99,
      "outputs": [
        {
          "output_type": "stream",
          "text": [
            "Best: 0.335980 using {'C': 1.5, 'epsilon': 0.1, 'gamma': 1e-07, 'kernel': 'linear'}\n",
            "0.335953 (0.042329) with: {'C': 1, 'epsilon': 0.1, 'gamma': 1e-07, 'kernel': 'linear'}\n",
            "-0.116023 (0.063384) with: {'C': 1, 'epsilon': 0.1, 'gamma': 1e-07, 'kernel': 'rbf'}\n",
            "0.335953 (0.042329) with: {'C': 1, 'epsilon': 0.1, 'gamma': 0.0001, 'kernel': 'linear'}\n",
            "0.169903 (0.027716) with: {'C': 1, 'epsilon': 0.1, 'gamma': 0.0001, 'kernel': 'rbf'}\n",
            "0.333043 (0.039409) with: {'C': 1, 'epsilon': 0.2, 'gamma': 1e-07, 'kernel': 'linear'}\n",
            "-0.049446 (0.038814) with: {'C': 1, 'epsilon': 0.2, 'gamma': 1e-07, 'kernel': 'rbf'}\n",
            "0.333043 (0.039409) with: {'C': 1, 'epsilon': 0.2, 'gamma': 0.0001, 'kernel': 'linear'}\n",
            "0.176934 (0.010763) with: {'C': 1, 'epsilon': 0.2, 'gamma': 0.0001, 'kernel': 'rbf'}\n",
            "0.330212 (0.034025) with: {'C': 1, 'epsilon': 0.5, 'gamma': 1e-07, 'kernel': 'linear'}\n",
            "-0.037432 (0.035594) with: {'C': 1, 'epsilon': 0.5, 'gamma': 1e-07, 'kernel': 'rbf'}\n",
            "0.330212 (0.034025) with: {'C': 1, 'epsilon': 0.5, 'gamma': 0.0001, 'kernel': 'linear'}\n",
            "0.022938 (0.030331) with: {'C': 1, 'epsilon': 0.5, 'gamma': 0.0001, 'kernel': 'rbf'}\n",
            "0.335342 (0.035430) with: {'C': 1, 'epsilon': 0.3, 'gamma': 1e-07, 'kernel': 'linear'}\n",
            "-0.014140 (0.015600) with: {'C': 1, 'epsilon': 0.3, 'gamma': 1e-07, 'kernel': 'rbf'}\n",
            "0.335342 (0.035430) with: {'C': 1, 'epsilon': 0.3, 'gamma': 0.0001, 'kernel': 'linear'}\n",
            "0.155015 (0.021290) with: {'C': 1, 'epsilon': 0.3, 'gamma': 0.0001, 'kernel': 'rbf'}\n",
            "0.335980 (0.042278) with: {'C': 1.5, 'epsilon': 0.1, 'gamma': 1e-07, 'kernel': 'linear'}\n",
            "-0.115831 (0.063367) with: {'C': 1.5, 'epsilon': 0.1, 'gamma': 1e-07, 'kernel': 'rbf'}\n",
            "0.335980 (0.042278) with: {'C': 1.5, 'epsilon': 0.1, 'gamma': 0.0001, 'kernel': 'linear'}\n",
            "0.235062 (0.017032) with: {'C': 1.5, 'epsilon': 0.1, 'gamma': 0.0001, 'kernel': 'rbf'}\n",
            "0.332815 (0.039708) with: {'C': 1.5, 'epsilon': 0.2, 'gamma': 1e-07, 'kernel': 'linear'}\n",
            "-0.049283 (0.038796) with: {'C': 1.5, 'epsilon': 0.2, 'gamma': 1e-07, 'kernel': 'rbf'}\n",
            "0.332815 (0.039708) with: {'C': 1.5, 'epsilon': 0.2, 'gamma': 0.0001, 'kernel': 'linear'}\n",
            "0.223751 (0.019090) with: {'C': 1.5, 'epsilon': 0.2, 'gamma': 0.0001, 'kernel': 'rbf'}\n",
            "0.330366 (0.034069) with: {'C': 1.5, 'epsilon': 0.5, 'gamma': 1e-07, 'kernel': 'linear'}\n",
            "-0.037402 (0.035600) with: {'C': 1.5, 'epsilon': 0.5, 'gamma': 1e-07, 'kernel': 'rbf'}\n",
            "0.330366 (0.034069) with: {'C': 1.5, 'epsilon': 0.5, 'gamma': 0.0001, 'kernel': 'linear'}\n",
            "0.051083 (0.027869) with: {'C': 1.5, 'epsilon': 0.5, 'gamma': 0.0001, 'kernel': 'rbf'}\n",
            "0.335247 (0.035672) with: {'C': 1.5, 'epsilon': 0.3, 'gamma': 1e-07, 'kernel': 'linear'}\n",
            "-0.014007 (0.015582) with: {'C': 1.5, 'epsilon': 0.3, 'gamma': 1e-07, 'kernel': 'rbf'}\n",
            "0.335247 (0.035672) with: {'C': 1.5, 'epsilon': 0.3, 'gamma': 0.0001, 'kernel': 'linear'}\n",
            "0.192859 (0.020713) with: {'C': 1.5, 'epsilon': 0.3, 'gamma': 0.0001, 'kernel': 'rbf'}\n",
            "0.335932 (0.042333) with: {'C': 10, 'epsilon': 0.1, 'gamma': 1e-07, 'kernel': 'linear'}\n",
            "-0.112583 (0.063068) with: {'C': 10, 'epsilon': 0.1, 'gamma': 1e-07, 'kernel': 'rbf'}\n",
            "0.335932 (0.042333) with: {'C': 10, 'epsilon': 0.1, 'gamma': 0.0001, 'kernel': 'linear'}\n",
            "0.333029 (0.030191) with: {'C': 10, 'epsilon': 0.1, 'gamma': 0.0001, 'kernel': 'rbf'}\n",
            "0.332969 (0.039374) with: {'C': 10, 'epsilon': 0.2, 'gamma': 1e-07, 'kernel': 'linear'}\n",
            "-0.046533 (0.038496) with: {'C': 10, 'epsilon': 0.2, 'gamma': 1e-07, 'kernel': 'rbf'}\n",
            "0.332969 (0.039374) with: {'C': 10, 'epsilon': 0.2, 'gamma': 0.0001, 'kernel': 'linear'}\n",
            "0.333080 (0.027387) with: {'C': 10, 'epsilon': 0.2, 'gamma': 0.0001, 'kernel': 'rbf'}\n",
            "0.330262 (0.034015) with: {'C': 10, 'epsilon': 0.5, 'gamma': 1e-07, 'kernel': 'linear'}\n",
            "-0.036692 (0.035533) with: {'C': 10, 'epsilon': 0.5, 'gamma': 1e-07, 'kernel': 'rbf'}\n",
            "0.330262 (0.034015) with: {'C': 10, 'epsilon': 0.5, 'gamma': 0.0001, 'kernel': 'linear'}\n",
            "0.295489 (0.021667) with: {'C': 10, 'epsilon': 0.5, 'gamma': 0.0001, 'kernel': 'rbf'}\n",
            "0.335264 (0.035563) with: {'C': 10, 'epsilon': 0.3, 'gamma': 1e-07, 'kernel': 'linear'}\n",
            "-0.011755 (0.015271) with: {'C': 10, 'epsilon': 0.3, 'gamma': 1e-07, 'kernel': 'rbf'}\n",
            "0.335264 (0.035563) with: {'C': 10, 'epsilon': 0.3, 'gamma': 0.0001, 'kernel': 'linear'}\n",
            "0.325992 (0.024285) with: {'C': 10, 'epsilon': 0.3, 'gamma': 0.0001, 'kernel': 'rbf'}\n"
          ],
          "name": "stdout"
        }
      ]
    },
    {
      "cell_type": "markdown",
      "metadata": {
        "id": "0hc6_ayZJN0t",
        "colab_type": "text"
      },
      "source": [
        "### Fit Model"
      ]
    },
    {
      "cell_type": "code",
      "metadata": {
        "id": "ati_WNo6JOMf",
        "colab_type": "code",
        "colab": {}
      },
      "source": [
        "y_pred = svr.predict(X_test_scaled)"
      ],
      "execution_count": 0,
      "outputs": []
    },
    {
      "cell_type": "markdown",
      "metadata": {
        "id": "URNxAhMGJWDZ",
        "colab_type": "text"
      },
      "source": [
        "### Evaluate"
      ]
    },
    {
      "cell_type": "code",
      "metadata": {
        "id": "LfF-G1K8JWRw",
        "colab_type": "code",
        "outputId": "20e8ca3e-7280-492b-bceb-0fff6e9887af",
        "colab": {
          "base_uri": "https://localhost:8080/",
          "height": 51
        }
      },
      "source": [
        "print(\"RMSE for Linear Regression: %.2f\" \n",
        "      %mean_squared_error(y_test,y_pred))\n",
        "print(\"r2 for Linear Regression: %.2f\" \n",
        "      %r2_score(y_test,y_pred))"
      ],
      "execution_count": 101,
      "outputs": [
        {
          "output_type": "stream",
          "text": [
            "RMSE for Linear Regression: 0.45\n",
            "r2 for Linear Regression: 0.30\n"
          ],
          "name": "stdout"
        }
      ]
    },
    {
      "cell_type": "markdown",
      "metadata": {
        "id": "7_c9wxaWpqB4",
        "colab_type": "text"
      },
      "source": [
        "# Pickling Sklearn Model and Scaler\n",
        "The Random Forest Regressor returned the best model, so we will pickle the model to export for our Flask App."
      ]
    },
    {
      "cell_type": "code",
      "metadata": {
        "id": "KXyhodGmp0gB",
        "colab_type": "code",
        "outputId": "bc3308ab-3fcb-43e0-f214-5a7965c84894",
        "colab": {
          "base_uri": "https://localhost:8080/",
          "height": 34
        }
      },
      "source": [
        "joblib.dump(rf_reg, 'wine_quality_prediction.joblib')"
      ],
      "execution_count": 102,
      "outputs": [
        {
          "output_type": "execute_result",
          "data": {
            "text/plain": [
              "['wine_quality_prediction.joblib']"
            ]
          },
          "metadata": {
            "tags": []
          },
          "execution_count": 102
        }
      ]
    },
    {
      "cell_type": "code",
      "metadata": {
        "id": "pnKDl11py8yz",
        "colab_type": "code",
        "outputId": "4a7b8505-d9a0-4057-ffab-d85808b9862d",
        "colab": {
          "base_uri": "https://localhost:8080/",
          "height": 34
        }
      },
      "source": [
        "scaler_filename = \"standard_scalar.joblib\"\n",
        "joblib.dump(scaler, scaler_filename)"
      ],
      "execution_count": 103,
      "outputs": [
        {
          "output_type": "execute_result",
          "data": {
            "text/plain": [
              "['standard_scalar.joblib']"
            ]
          },
          "metadata": {
            "tags": []
          },
          "execution_count": 103
        }
      ]
    },
    {
      "cell_type": "markdown",
      "metadata": {
        "id": "7cGXLbB2ro4x",
        "colab_type": "text"
      },
      "source": [
        "To verify the joblib was created, and verify its location, the following **ls** call is used."
      ]
    },
    {
      "cell_type": "code",
      "metadata": {
        "id": "ezO_3hDqqohk",
        "colab_type": "code",
        "outputId": "063a85a5-0c65-482d-a669-b91180ce64dd",
        "colab": {
          "base_uri": "https://localhost:8080/",
          "height": 85
        }
      },
      "source": [
        "!ls -l"
      ],
      "execution_count": 104,
      "outputs": [
        {
          "output_type": "stream",
          "text": [
            "total 3772\n",
            "drwxr-xr-x 1 root root    4096 Mar 18 16:23 sample_data\n",
            "-rw-r--r-- 1 root root     845 Mar 25 20:03 standard_scalar.joblib\n",
            "-rw-r--r-- 1 root root 3852807 Mar 25 20:03 wine_quality_prediction.joblib\n"
          ],
          "name": "stdout"
        }
      ]
    },
    {
      "cell_type": "markdown",
      "metadata": {
        "id": "kdgM3SNNs147",
        "colab_type": "text"
      },
      "source": [
        "## Download Files\n",
        "The model and files will be manually downloaded to my local machine and then uploaded to Github.\n"
      ]
    },
    {
      "cell_type": "code",
      "metadata": {
        "id": "7xlRmjHks654",
        "colab_type": "code",
        "colab": {}
      },
      "source": [
        "#files.download('wine_quality_prediction.joblib')\n",
        "#files.download('standard_scalar.joblib')"
      ],
      "execution_count": 0,
      "outputs": []
    },
    {
      "cell_type": "markdown",
      "metadata": {
        "id": "JVYyT4Biu7uS",
        "colab_type": "text"
      },
      "source": [
        "# Debug\n",
        "The following information will be created for use in debugging, both for the model and the  the Flask App."
      ]
    },
    {
      "cell_type": "code",
      "metadata": {
        "id": "VJt2b6n5u5QC",
        "colab_type": "code",
        "colab": {}
      },
      "source": [
        "row_num = 125"
      ],
      "execution_count": 0,
      "outputs": []
    },
    {
      "cell_type": "markdown",
      "metadata": {
        "id": "m2hgqK3Su_B0",
        "colab_type": "text"
      },
      "source": [
        "## Adhoc Predict 1\n"
      ]
    },
    {
      "cell_type": "code",
      "metadata": {
        "id": "0ohSTFbuwvvc",
        "colab_type": "code",
        "colab": {}
      },
      "source": [
        "model = rf_reg"
      ],
      "execution_count": 0,
      "outputs": []
    },
    {
      "cell_type": "markdown",
      "metadata": {
        "id": "Wsftc6crwP4_",
        "colab_type": "text"
      },
      "source": [
        "### Input"
      ]
    },
    {
      "cell_type": "code",
      "metadata": {
        "id": "v9t6LYUvvDwX",
        "colab_type": "code",
        "outputId": "57287844-72fe-4f4c-b028-13889853d0f2",
        "colab": {
          "base_uri": "https://localhost:8080/",
          "height": 80
        }
      },
      "source": [
        "actual_sample = df_wine_red.iloc[[row_num]]\n",
        "actual_sample"
      ],
      "execution_count": 108,
      "outputs": [
        {
          "output_type": "execute_result",
          "data": {
            "text/html": [
              "<div>\n",
              "<style scoped>\n",
              "    .dataframe tbody tr th:only-of-type {\n",
              "        vertical-align: middle;\n",
              "    }\n",
              "\n",
              "    .dataframe tbody tr th {\n",
              "        vertical-align: top;\n",
              "    }\n",
              "\n",
              "    .dataframe thead th {\n",
              "        text-align: right;\n",
              "    }\n",
              "</style>\n",
              "<table border=\"1\" class=\"dataframe\">\n",
              "  <thead>\n",
              "    <tr style=\"text-align: right;\">\n",
              "      <th></th>\n",
              "      <th>fixed_acidity</th>\n",
              "      <th>volatile_acidity</th>\n",
              "      <th>citric_acid</th>\n",
              "      <th>residual_sugar</th>\n",
              "      <th>chlorides</th>\n",
              "      <th>free_sulfur_dioxide</th>\n",
              "      <th>total_sulfur_dioxide</th>\n",
              "      <th>density</th>\n",
              "      <th>pH</th>\n",
              "      <th>sulphates</th>\n",
              "      <th>alcohol</th>\n",
              "      <th>quality</th>\n",
              "    </tr>\n",
              "  </thead>\n",
              "  <tbody>\n",
              "    <tr>\n",
              "      <th>125</th>\n",
              "      <td>9.0</td>\n",
              "      <td>0.62</td>\n",
              "      <td>0.04</td>\n",
              "      <td>1.9</td>\n",
              "      <td>0.146</td>\n",
              "      <td>27.0</td>\n",
              "      <td>90.0</td>\n",
              "      <td>0.9984</td>\n",
              "      <td>3.16</td>\n",
              "      <td>0.7</td>\n",
              "      <td>9.4</td>\n",
              "      <td>5</td>\n",
              "    </tr>\n",
              "  </tbody>\n",
              "</table>\n",
              "</div>"
            ],
            "text/plain": [
              "     fixed_acidity  volatile_acidity  citric_acid  ...  sulphates  alcohol  quality\n",
              "125            9.0              0.62         0.04  ...        0.7      9.4        5\n",
              "\n",
              "[1 rows x 12 columns]"
            ]
          },
          "metadata": {
            "tags": []
          },
          "execution_count": 108
        }
      ]
    },
    {
      "cell_type": "code",
      "metadata": {
        "id": "BOYPbL4dvK0c",
        "colab_type": "code",
        "outputId": "5997e6a8-8e23-49f0-c313-cc57abb8bc4f",
        "colab": {
          "base_uri": "https://localhost:8080/",
          "height": 80
        }
      },
      "source": [
        "adhoc_predict_1 = actual_sample.drop('quality', axis=1)\n",
        "adhoc_predict_1.head()"
      ],
      "execution_count": 109,
      "outputs": [
        {
          "output_type": "execute_result",
          "data": {
            "text/html": [
              "<div>\n",
              "<style scoped>\n",
              "    .dataframe tbody tr th:only-of-type {\n",
              "        vertical-align: middle;\n",
              "    }\n",
              "\n",
              "    .dataframe tbody tr th {\n",
              "        vertical-align: top;\n",
              "    }\n",
              "\n",
              "    .dataframe thead th {\n",
              "        text-align: right;\n",
              "    }\n",
              "</style>\n",
              "<table border=\"1\" class=\"dataframe\">\n",
              "  <thead>\n",
              "    <tr style=\"text-align: right;\">\n",
              "      <th></th>\n",
              "      <th>fixed_acidity</th>\n",
              "      <th>volatile_acidity</th>\n",
              "      <th>citric_acid</th>\n",
              "      <th>residual_sugar</th>\n",
              "      <th>chlorides</th>\n",
              "      <th>free_sulfur_dioxide</th>\n",
              "      <th>total_sulfur_dioxide</th>\n",
              "      <th>density</th>\n",
              "      <th>pH</th>\n",
              "      <th>sulphates</th>\n",
              "      <th>alcohol</th>\n",
              "    </tr>\n",
              "  </thead>\n",
              "  <tbody>\n",
              "    <tr>\n",
              "      <th>125</th>\n",
              "      <td>9.0</td>\n",
              "      <td>0.62</td>\n",
              "      <td>0.04</td>\n",
              "      <td>1.9</td>\n",
              "      <td>0.146</td>\n",
              "      <td>27.0</td>\n",
              "      <td>90.0</td>\n",
              "      <td>0.9984</td>\n",
              "      <td>3.16</td>\n",
              "      <td>0.7</td>\n",
              "      <td>9.4</td>\n",
              "    </tr>\n",
              "  </tbody>\n",
              "</table>\n",
              "</div>"
            ],
            "text/plain": [
              "     fixed_acidity  volatile_acidity  citric_acid  ...    pH  sulphates  alcohol\n",
              "125            9.0              0.62         0.04  ...  3.16        0.7      9.4\n",
              "\n",
              "[1 rows x 11 columns]"
            ]
          },
          "metadata": {
            "tags": []
          },
          "execution_count": 109
        }
      ]
    },
    {
      "cell_type": "markdown",
      "metadata": {
        "id": "zdKnhM-ZwGFz",
        "colab_type": "text"
      },
      "source": [
        "### JSON Workflow"
      ]
    },
    {
      "cell_type": "code",
      "metadata": {
        "id": "3q4DcXeAwGOX",
        "colab_type": "code",
        "outputId": "15893121-7c87-4d3c-d8ec-51c881a850a8",
        "colab": {
          "base_uri": "https://localhost:8080/",
          "height": 54
        }
      },
      "source": [
        "json_payload = adhoc_predict_1.to_json()\n",
        "json_payload"
      ],
      "execution_count": 110,
      "outputs": [
        {
          "output_type": "execute_result",
          "data": {
            "text/plain": [
              "'{\"fixed_acidity\":{\"125\":9.0},\"volatile_acidity\":{\"125\":0.62},\"citric_acid\":{\"125\":0.04},\"residual_sugar\":{\"125\":1.9},\"chlorides\":{\"125\":0.146},\"free_sulfur_dioxide\":{\"125\":27.0},\"total_sulfur_dioxide\":{\"125\":90.0},\"density\":{\"125\":0.9984},\"pH\":{\"125\":3.16},\"sulphates\":{\"125\":0.7},\"alcohol\":{\"125\":9.4}}'"
            ]
          },
          "metadata": {
            "tags": []
          },
          "execution_count": 110
        }
      ]
    },
    {
      "cell_type": "code",
      "metadata": {
        "id": "JufII-Bc3GlF",
        "colab_type": "code",
        "outputId": "f893dcfe-0ab1-48f1-b7a9-f3330a4a6655",
        "colab": {
          "base_uri": "https://localhost:8080/",
          "height": 85
        }
      },
      "source": [
        "!ls -l"
      ],
      "execution_count": 111,
      "outputs": [
        {
          "output_type": "stream",
          "text": [
            "total 3772\n",
            "drwxr-xr-x 1 root root    4096 Mar 18 16:23 sample_data\n",
            "-rw-r--r-- 1 root root     845 Mar 25 20:03 standard_scalar.joblib\n",
            "-rw-r--r-- 1 root root 3852807 Mar 25 20:03 wine_quality_prediction.joblib\n"
          ],
          "name": "stdout"
        }
      ]
    },
    {
      "cell_type": "markdown",
      "metadata": {
        "id": "PX-iDFXxwd7R",
        "colab_type": "text"
      },
      "source": [
        "### Scale Input"
      ]
    },
    {
      "cell_type": "code",
      "metadata": {
        "id": "PxX2niAbwjCB",
        "colab_type": "code",
        "outputId": "252372fb-b4aa-4b51-fdfb-4432f04d9655",
        "colab": {
          "base_uri": "https://localhost:8080/",
          "height": 68
        }
      },
      "source": [
        "#scaler = StandardScaler().fit(adhoc_predict_1)\n",
        "scaled_adhoc_predict_1 = scaler.transform(adhoc_predict_1)\n",
        "scaled_adhoc_predict_1"
      ],
      "execution_count": 112,
      "outputs": [
        {
          "output_type": "execute_result",
          "data": {
            "text/plain": [
              "array([[ 0.36323039,  0.5111976 , -1.19089158, -0.44166432,  1.22570719,\n",
              "         1.08433035,  1.36377549,  0.84770255, -0.95734791,  0.28538994,\n",
              "        -0.95541156]])"
            ]
          },
          "metadata": {
            "tags": []
          },
          "execution_count": 112
        }
      ]
    },
    {
      "cell_type": "markdown",
      "metadata": {
        "id": "i2QZFoCXw31T",
        "colab_type": "text"
      },
      "source": [
        "### Predict"
      ]
    },
    {
      "cell_type": "code",
      "metadata": {
        "id": "ccacuQDpw8ok",
        "colab_type": "code",
        "outputId": "4a15d7e9-117c-4947-b5d2-550861144159",
        "colab": {
          "base_uri": "https://localhost:8080/",
          "height": 34
        }
      },
      "source": [
        "adhoc_predict_output_1 = model.predict(scaled_adhoc_predict_1).item()\n",
        "print(adhoc_predict_output_1)"
      ],
      "execution_count": 113,
      "outputs": [
        {
          "output_type": "stream",
          "text": [
            "4.93\n"
          ],
          "name": "stdout"
        }
      ]
    },
    {
      "cell_type": "markdown",
      "metadata": {
        "id": "rx1LZJhkyIvf",
        "colab_type": "text"
      },
      "source": [
        "## Adhoc Predict 2"
      ]
    },
    {
      "cell_type": "markdown",
      "metadata": {
        "id": "qjE38EBfx066",
        "colab_type": "text"
      },
      "source": [
        "### Import Joblib"
      ]
    },
    {
      "cell_type": "code",
      "metadata": {
        "id": "bYt0ZHG6x5bu",
        "colab_type": "code",
        "colab": {}
      },
      "source": [
        "clf = joblib.load('wine_quality_prediction.joblib')"
      ],
      "execution_count": 0,
      "outputs": []
    },
    {
      "cell_type": "markdown",
      "metadata": {
        "id": "hghgel2tyU6P",
        "colab_type": "text"
      },
      "source": [
        "### Input"
      ]
    },
    {
      "cell_type": "code",
      "metadata": {
        "id": "40SKG1lZyga9",
        "colab_type": "code",
        "outputId": "ba34b3f9-5617-47fc-fa3a-467246ec3851",
        "colab": {
          "base_uri": "https://localhost:8080/",
          "height": 80
        }
      },
      "source": [
        "actual_sample = df_wine_red.iloc[[row_num]]\n",
        "actual_sample"
      ],
      "execution_count": 115,
      "outputs": [
        {
          "output_type": "execute_result",
          "data": {
            "text/html": [
              "<div>\n",
              "<style scoped>\n",
              "    .dataframe tbody tr th:only-of-type {\n",
              "        vertical-align: middle;\n",
              "    }\n",
              "\n",
              "    .dataframe tbody tr th {\n",
              "        vertical-align: top;\n",
              "    }\n",
              "\n",
              "    .dataframe thead th {\n",
              "        text-align: right;\n",
              "    }\n",
              "</style>\n",
              "<table border=\"1\" class=\"dataframe\">\n",
              "  <thead>\n",
              "    <tr style=\"text-align: right;\">\n",
              "      <th></th>\n",
              "      <th>fixed_acidity</th>\n",
              "      <th>volatile_acidity</th>\n",
              "      <th>citric_acid</th>\n",
              "      <th>residual_sugar</th>\n",
              "      <th>chlorides</th>\n",
              "      <th>free_sulfur_dioxide</th>\n",
              "      <th>total_sulfur_dioxide</th>\n",
              "      <th>density</th>\n",
              "      <th>pH</th>\n",
              "      <th>sulphates</th>\n",
              "      <th>alcohol</th>\n",
              "      <th>quality</th>\n",
              "    </tr>\n",
              "  </thead>\n",
              "  <tbody>\n",
              "    <tr>\n",
              "      <th>125</th>\n",
              "      <td>9.0</td>\n",
              "      <td>0.62</td>\n",
              "      <td>0.04</td>\n",
              "      <td>1.9</td>\n",
              "      <td>0.146</td>\n",
              "      <td>27.0</td>\n",
              "      <td>90.0</td>\n",
              "      <td>0.9984</td>\n",
              "      <td>3.16</td>\n",
              "      <td>0.7</td>\n",
              "      <td>9.4</td>\n",
              "      <td>5</td>\n",
              "    </tr>\n",
              "  </tbody>\n",
              "</table>\n",
              "</div>"
            ],
            "text/plain": [
              "     fixed_acidity  volatile_acidity  citric_acid  ...  sulphates  alcohol  quality\n",
              "125            9.0              0.62         0.04  ...        0.7      9.4        5\n",
              "\n",
              "[1 rows x 12 columns]"
            ]
          },
          "metadata": {
            "tags": []
          },
          "execution_count": 115
        }
      ]
    },
    {
      "cell_type": "code",
      "metadata": {
        "id": "dQgVNL5GyyJ6",
        "colab_type": "code",
        "outputId": "012b76d1-e556-4ff9-9fc2-9eff14e40ddf",
        "colab": {
          "base_uri": "https://localhost:8080/",
          "height": 80
        }
      },
      "source": [
        "adhoc_predict_2 = actual_sample.drop('quality', axis=1)\n",
        "adhoc_predict_2.head()"
      ],
      "execution_count": 116,
      "outputs": [
        {
          "output_type": "execute_result",
          "data": {
            "text/html": [
              "<div>\n",
              "<style scoped>\n",
              "    .dataframe tbody tr th:only-of-type {\n",
              "        vertical-align: middle;\n",
              "    }\n",
              "\n",
              "    .dataframe tbody tr th {\n",
              "        vertical-align: top;\n",
              "    }\n",
              "\n",
              "    .dataframe thead th {\n",
              "        text-align: right;\n",
              "    }\n",
              "</style>\n",
              "<table border=\"1\" class=\"dataframe\">\n",
              "  <thead>\n",
              "    <tr style=\"text-align: right;\">\n",
              "      <th></th>\n",
              "      <th>fixed_acidity</th>\n",
              "      <th>volatile_acidity</th>\n",
              "      <th>citric_acid</th>\n",
              "      <th>residual_sugar</th>\n",
              "      <th>chlorides</th>\n",
              "      <th>free_sulfur_dioxide</th>\n",
              "      <th>total_sulfur_dioxide</th>\n",
              "      <th>density</th>\n",
              "      <th>pH</th>\n",
              "      <th>sulphates</th>\n",
              "      <th>alcohol</th>\n",
              "    </tr>\n",
              "  </thead>\n",
              "  <tbody>\n",
              "    <tr>\n",
              "      <th>125</th>\n",
              "      <td>9.0</td>\n",
              "      <td>0.62</td>\n",
              "      <td>0.04</td>\n",
              "      <td>1.9</td>\n",
              "      <td>0.146</td>\n",
              "      <td>27.0</td>\n",
              "      <td>90.0</td>\n",
              "      <td>0.9984</td>\n",
              "      <td>3.16</td>\n",
              "      <td>0.7</td>\n",
              "      <td>9.4</td>\n",
              "    </tr>\n",
              "  </tbody>\n",
              "</table>\n",
              "</div>"
            ],
            "text/plain": [
              "     fixed_acidity  volatile_acidity  citric_acid  ...    pH  sulphates  alcohol\n",
              "125            9.0              0.62         0.04  ...  3.16        0.7      9.4\n",
              "\n",
              "[1 rows x 11 columns]"
            ]
          },
          "metadata": {
            "tags": []
          },
          "execution_count": 116
        }
      ]
    },
    {
      "cell_type": "markdown",
      "metadata": {
        "id": "Eg-sHChXy1Ji",
        "colab_type": "text"
      },
      "source": [
        "### Scale Input"
      ]
    },
    {
      "cell_type": "code",
      "metadata": {
        "id": "bJDK9z3Dy8pS",
        "colab_type": "code",
        "outputId": "636b57b0-cb4f-4515-d8d0-8a4254c054d6",
        "colab": {
          "base_uri": "https://localhost:8080/",
          "height": 68
        }
      },
      "source": [
        "#scaler = StandardScaler().fit(adhoc_predict_2)\n",
        "scaled_adhoc_predict_2 = scaler.transform(adhoc_predict_2)\n",
        "scaled_adhoc_predict_2"
      ],
      "execution_count": 117,
      "outputs": [
        {
          "output_type": "execute_result",
          "data": {
            "text/plain": [
              "array([[ 0.36323039,  0.5111976 , -1.19089158, -0.44166432,  1.22570719,\n",
              "         1.08433035,  1.36377549,  0.84770255, -0.95734791,  0.28538994,\n",
              "        -0.95541156]])"
            ]
          },
          "metadata": {
            "tags": []
          },
          "execution_count": 117
        }
      ]
    },
    {
      "cell_type": "markdown",
      "metadata": {
        "id": "dWzI3oinz1FD",
        "colab_type": "text"
      },
      "source": [
        "### Predict\n"
      ]
    },
    {
      "cell_type": "code",
      "metadata": {
        "id": "WL0Rtrdgz2oW",
        "colab_type": "code",
        "outputId": "a9ae6f9f-4bf7-4117-b50b-69b29e4c48e2",
        "colab": {
          "base_uri": "https://localhost:8080/",
          "height": 34
        }
      },
      "source": [
        "adhoc_predict_output_2 = model.predict(scaled_adhoc_predict_2).item()\n",
        "adhoc_predict_output_2"
      ],
      "execution_count": 118,
      "outputs": [
        {
          "output_type": "execute_result",
          "data": {
            "text/plain": [
              "4.93"
            ]
          },
          "metadata": {
            "tags": []
          },
          "execution_count": 118
        }
      ]
    },
    {
      "cell_type": "markdown",
      "metadata": {
        "id": "TDO_u-yU0NCu",
        "colab_type": "text"
      },
      "source": [
        "## Verify Adhoc Results"
      ]
    },
    {
      "cell_type": "code",
      "metadata": {
        "id": "f3l6LzZw0RW3",
        "colab_type": "code",
        "outputId": "d04f8189-d73a-4468-8ae6-abac588b53e1",
        "colab": {
          "base_uri": "https://localhost:8080/",
          "height": 34
        }
      },
      "source": [
        "adhoc_predict_output_2 - adhoc_predict_output_1"
      ],
      "execution_count": 119,
      "outputs": [
        {
          "output_type": "execute_result",
          "data": {
            "text/plain": [
              "0.0"
            ]
          },
          "metadata": {
            "tags": []
          },
          "execution_count": 119
        }
      ]
    },
    {
      "cell_type": "markdown",
      "metadata": {
        "id": "3iSAeZ91GBA5",
        "colab_type": "text"
      },
      "source": [
        "# Flask App Check\n"
      ]
    },
    {
      "cell_type": "code",
      "metadata": {
        "id": "kOwo7i_wGiJx",
        "colab_type": "code",
        "colab": {}
      },
      "source": [
        "def scale(payload):\n",
        "    \"\"\"Scales Payload\"\"\"\n",
        "\n",
        "    #LOG.info(f\"Scaling Payload: {payload}\")\n",
        "    scaler = StandardScaler().fit(payload)\n",
        "    scaled_adhoc_predict = scaler.transform(payload)\n",
        "    return scaled_adhoc_predict"
      ],
      "execution_count": 0,
      "outputs": []
    },
    {
      "cell_type": "code",
      "metadata": {
        "id": "aEgEnyD4ogDl",
        "colab_type": "code",
        "outputId": "74c004fb-d926-4ff9-91ef-a8addaf1409b",
        "colab": {
          "base_uri": "https://localhost:8080/",
          "height": 68
        }
      },
      "source": [
        "  df_init = pd.DataFrame(\n",
        "    columns=[\n",
        "        'fixed_acidity', 'volatile_acidity', 'citric_acid',\n",
        "        'residual_sugar', 'chlorides', 'free_sulfur_dioxide',\n",
        "        'total_sulfur_dioxide', 'density', 'ph', 'sulphates',\n",
        "        'alcohol'\n",
        "    ]\n",
        ")\n",
        "\n",
        "print(df_init)"
      ],
      "execution_count": 121,
      "outputs": [
        {
          "output_type": "stream",
          "text": [
            "Empty DataFrame\n",
            "Columns: [fixed_acidity, volatile_acidity, citric_acid, residual_sugar, chlorides, free_sulfur_dioxide, total_sulfur_dioxide, density, ph, sulphates, alcohol]\n",
            "Index: []\n"
          ],
          "name": "stdout"
        }
      ]
    },
    {
      "cell_type": "code",
      "metadata": {
        "id": "yiwNt5HZrIzl",
        "colab_type": "code",
        "outputId": "2c6d32cb-23b3-4032-d4a4-d9edadc9cbf1",
        "colab": {
          "base_uri": "https://localhost:8080/",
          "height": 80
        }
      },
      "source": [
        "    df_input = df_init.append(\n",
        "        {\n",
        "            'fixed_acidity': 1,\n",
        "            'volatile_acidity': 2,\n",
        "            'citric_acid': 3,\n",
        "            'residual_sugar': 4,\n",
        "            'chlorides': 5,\n",
        "            'free_sulfur_dioxide': 6,\n",
        "            'total_sulfur_dioxide': 7,\n",
        "            'density': 8,\n",
        "            'ph': 9,\n",
        "            'sulphates': 10,\n",
        "            'alcohol': 11\n",
        "        },\n",
        "      ignore_index=True\n",
        "    )\n",
        "\n",
        "    df_input"
      ],
      "execution_count": 122,
      "outputs": [
        {
          "output_type": "execute_result",
          "data": {
            "text/html": [
              "<div>\n",
              "<style scoped>\n",
              "    .dataframe tbody tr th:only-of-type {\n",
              "        vertical-align: middle;\n",
              "    }\n",
              "\n",
              "    .dataframe tbody tr th {\n",
              "        vertical-align: top;\n",
              "    }\n",
              "\n",
              "    .dataframe thead th {\n",
              "        text-align: right;\n",
              "    }\n",
              "</style>\n",
              "<table border=\"1\" class=\"dataframe\">\n",
              "  <thead>\n",
              "    <tr style=\"text-align: right;\">\n",
              "      <th></th>\n",
              "      <th>fixed_acidity</th>\n",
              "      <th>volatile_acidity</th>\n",
              "      <th>citric_acid</th>\n",
              "      <th>residual_sugar</th>\n",
              "      <th>chlorides</th>\n",
              "      <th>free_sulfur_dioxide</th>\n",
              "      <th>total_sulfur_dioxide</th>\n",
              "      <th>density</th>\n",
              "      <th>ph</th>\n",
              "      <th>sulphates</th>\n",
              "      <th>alcohol</th>\n",
              "    </tr>\n",
              "  </thead>\n",
              "  <tbody>\n",
              "    <tr>\n",
              "      <th>0</th>\n",
              "      <td>1</td>\n",
              "      <td>2</td>\n",
              "      <td>3</td>\n",
              "      <td>4</td>\n",
              "      <td>5</td>\n",
              "      <td>6</td>\n",
              "      <td>7</td>\n",
              "      <td>8</td>\n",
              "      <td>9</td>\n",
              "      <td>10</td>\n",
              "      <td>11</td>\n",
              "    </tr>\n",
              "  </tbody>\n",
              "</table>\n",
              "</div>"
            ],
            "text/plain": [
              "  fixed_acidity volatile_acidity citric_acid  ... ph sulphates alcohol\n",
              "0             1                2           3  ...  9        10      11\n",
              "\n",
              "[1 rows x 11 columns]"
            ]
          },
          "metadata": {
            "tags": []
          },
          "execution_count": 122
        }
      ]
    }
  ]
}